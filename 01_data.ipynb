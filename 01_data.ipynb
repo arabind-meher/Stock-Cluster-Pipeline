{
 "cells": [
  {
   "cell_type": "markdown",
   "metadata": {},
   "source": [
    "# Historical Data"
   ]
  },
  {
   "cell_type": "code",
   "execution_count": 1,
   "metadata": {},
   "outputs": [],
   "source": [
    "import os\n",
    "import pandas as pd"
   ]
  },
  {
   "cell_type": "code",
   "execution_count": 2,
   "metadata": {},
   "outputs": [],
   "source": [
    "raw_data_dir = os.path.join(\"raw_data\", \"historical_data\")\n",
    "\n",
    "data_dir = \"data\"\n",
    "os.makedirs(data_dir, exist_ok=True)"
   ]
  },
  {
   "cell_type": "code",
   "execution_count": 3,
   "metadata": {},
   "outputs": [
    {
     "name": "stdout",
     "output_type": "stream",
     "text": [
      "(29661, 10)\n"
     ]
    }
   ],
   "source": [
    "stock_dfs = list()\n",
    "\n",
    "for subdir, _, files in os.walk(raw_data_dir):\n",
    "    for file in files:\n",
    "        file_path = os.path.join(subdir, file)\n",
    "        stock_dfs.append(pd.read_csv(file_path))\n",
    "\n",
    "stock_data = pd.concat(stock_dfs, ignore_index=True)\n",
    "stock_data.rename(columns={\"market_cap_category\": \"market_cap\"}, inplace=True)\n",
    "\n",
    "print(stock_data.shape)"
   ]
  },
  {
   "cell_type": "code",
   "execution_count": 4,
   "metadata": {},
   "outputs": [
    {
     "data": {
      "text/html": [
       "<div>\n",
       "<style scoped>\n",
       "    .dataframe tbody tr th:only-of-type {\n",
       "        vertical-align: middle;\n",
       "    }\n",
       "\n",
       "    .dataframe tbody tr th {\n",
       "        vertical-align: top;\n",
       "    }\n",
       "\n",
       "    .dataframe thead th {\n",
       "        text-align: right;\n",
       "    }\n",
       "</style>\n",
       "<table border=\"1\" class=\"dataframe\">\n",
       "  <thead>\n",
       "    <tr style=\"text-align: right;\">\n",
       "      <th></th>\n",
       "      <th>symbol</th>\n",
       "      <th>market_cap</th>\n",
       "      <th>date</th>\n",
       "      <th>open</th>\n",
       "      <th>high</th>\n",
       "      <th>low</th>\n",
       "      <th>close</th>\n",
       "      <th>adj_close</th>\n",
       "      <th>change</th>\n",
       "      <th>volume</th>\n",
       "    </tr>\n",
       "  </thead>\n",
       "  <tbody>\n",
       "    <tr>\n",
       "      <th>count</th>\n",
       "      <td>29661</td>\n",
       "      <td>29661</td>\n",
       "      <td>29661</td>\n",
       "      <td>29661.0</td>\n",
       "      <td>29661.0</td>\n",
       "      <td>29661.00</td>\n",
       "      <td>29661.0</td>\n",
       "      <td>29661.0</td>\n",
       "      <td>29661</td>\n",
       "      <td>29661</td>\n",
       "    </tr>\n",
       "    <tr>\n",
       "      <th>unique</th>\n",
       "      <td>300</td>\n",
       "      <td>6</td>\n",
       "      <td>100</td>\n",
       "      <td>14460.0</td>\n",
       "      <td>14868.0</td>\n",
       "      <td>14820.00</td>\n",
       "      <td>14904.0</td>\n",
       "      <td>14856.0</td>\n",
       "      <td>2431</td>\n",
       "      <td>29025</td>\n",
       "    </tr>\n",
       "    <tr>\n",
       "      <th>top</th>\n",
       "      <td>WMK</td>\n",
       "      <td>Large-Cap</td>\n",
       "      <td>Feb 14, 2025</td>\n",
       "      <td>10.0</td>\n",
       "      <td>10.0</td>\n",
       "      <td>9.98</td>\n",
       "      <td>10.0</td>\n",
       "      <td>10.0</td>\n",
       "      <td>-</td>\n",
       "      <td>-</td>\n",
       "    </tr>\n",
       "    <tr>\n",
       "      <th>freq</th>\n",
       "      <td>100</td>\n",
       "      <td>5000</td>\n",
       "      <td>300</td>\n",
       "      <td>96.0</td>\n",
       "      <td>92.0</td>\n",
       "      <td>83.00</td>\n",
       "      <td>76.0</td>\n",
       "      <td>76.0</td>\n",
       "      <td>1046</td>\n",
       "      <td>109</td>\n",
       "    </tr>\n",
       "  </tbody>\n",
       "</table>\n",
       "</div>"
      ],
      "text/plain": [
       "       symbol market_cap          date     open     high       low    close  \\\n",
       "count   29661      29661         29661  29661.0  29661.0  29661.00  29661.0   \n",
       "unique    300          6           100  14460.0  14868.0  14820.00  14904.0   \n",
       "top       WMK  Large-Cap  Feb 14, 2025     10.0     10.0      9.98     10.0   \n",
       "freq      100       5000           300     96.0     92.0     83.00     76.0   \n",
       "\n",
       "        adj_close change volume  \n",
       "count     29661.0  29661  29661  \n",
       "unique    14856.0   2431  29025  \n",
       "top          10.0      -      -  \n",
       "freq         76.0   1046    109  "
      ]
     },
     "execution_count": 4,
     "metadata": {},
     "output_type": "execute_result"
    }
   ],
   "source": [
    "stock_data.describe()"
   ]
  },
  {
   "cell_type": "code",
   "execution_count": null,
   "metadata": {},
   "outputs": [
    {
     "name": "stdout",
     "output_type": "stream",
     "text": [
      "<class 'pandas.core.frame.DataFrame'>\n",
      "RangeIndex: 29661 entries, 0 to 29660\n",
      "Data columns (total 10 columns):\n",
      " #   Column      Non-Null Count  Dtype \n",
      "---  ------      --------------  ----- \n",
      " 0   symbol      29661 non-null  object\n",
      " 1   market_cap  29661 non-null  object\n",
      " 2   date        29661 non-null  object\n",
      " 3   open        29661 non-null  object\n",
      " 4   high        29661 non-null  object\n",
      " 5   low         29661 non-null  object\n",
      " 6   close       29661 non-null  object\n",
      " 7   adj_close   29661 non-null  object\n",
      " 8   change      29661 non-null  object\n",
      " 9   volume      29661 non-null  object\n",
      "dtypes: object(10)\n",
      "memory usage: 12.5 MB\n"
     ]
    }
   ],
   "source": [
    "stock_data.info(memory_usage=\"deep\")"
   ]
  },
  {
   "cell_type": "code",
   "execution_count": 6,
   "metadata": {},
   "outputs": [],
   "source": [
    "save_to_path = os.path.join(data_dir, \"merged_data.csv\")\n",
    "stock_data.to_csv(save_to_path, index=False)"
   ]
  },
  {
   "cell_type": "markdown",
   "metadata": {},
   "source": [
    "---"
   ]
  }
 ],
 "metadata": {
  "kernelspec": {
   "display_name": ".venv",
   "language": "python",
   "name": "python3"
  },
  "language_info": {
   "codemirror_mode": {
    "name": "ipython",
    "version": 3
   },
   "file_extension": ".py",
   "mimetype": "text/x-python",
   "name": "python",
   "nbconvert_exporter": "python",
   "pygments_lexer": "ipython3",
   "version": "3.12.8"
  }
 },
 "nbformat": 4,
 "nbformat_minor": 2
}
